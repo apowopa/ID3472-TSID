{
 "metadata": {
  "kernelspec": {
   "display_name": "Streamlit Notebook",
   "name": "streamlit"
  },
  "lastEditStatus": {
   "notebookId": "2bjhy3fhqernuaea5kn2",
   "authorId": "6709567306916",
   "authorName": "COLABORADOR1",
   "authorEmail": "",
   "sessionId": "3cb34295-f2fe-4947-b4bb-5d39be942f3f",
   "lastEditTime": 1758338255919
  }
 },
 "nbformat_minor": 5,
 "nbformat": 4,
 "cells": [
  {
   "cell_type": "markdown",
   "id": "9fb8beb8-26f6-4297-9a55-bb30c8a6a490",
   "metadata": {
    "name": "cell4",
    "collapsed": false
   },
   "source": "# TAREA 3 - ETL DATASET BI\n\n## INTEGRANTES:\n- Apolonio Cuevas Manuel Alberto\n- Sansores Arjona Alejandro Jesus\n- Israel Alejandro Cel Alcocer\n- Salvador Iram Salas Baez\n- Leo Sebastian Contreras Raymund"
  },
  {
   "cell_type": "markdown",
   "id": "f3aa24ed-1eaa-4018-b3f6-9cbd1fce170b",
   "metadata": {
    "name": "cell5",
    "collapsed": false
   },
   "source": " ## Configuracion del Ambiente\n"
  },
  {
   "cell_type": "code",
   "id": "3775908f-ca36-4846-8f38-5adca39217f2",
   "metadata": {
    "language": "python",
    "name": "cell1"
   },
   "source": "# Import python packages\nimport streamlit as st\nimport pandas as pd\n\n# We can also use Snowpark for our analyses!\nfrom snowflake.snowpark.context import get_active_session\n\nsession = get_active_session()\nprint(session)\n",
   "execution_count": null,
   "outputs": []
  },
  {
   "cell_type": "markdown",
   "id": "cd7226d3-0bb1-4039-9d21-9846bbf2c803",
   "metadata": {
    "name": "cell8",
    "collapsed": false
   },
   "source": "### Automatizacion de la carga en kaggle"
  },
  {
   "cell_type": "markdown",
   "id": "1be831b0-526f-4f7a-be72-1397039c33b9",
   "metadata": {
    "name": "cell7",
    "collapsed": false
   },
   "source": "## Cargar la tabla desde el csv usando pandas para pasar el encoding latin-1"
  },
  {
   "cell_type": "code",
   "id": "2cf9c534-709f-491a-bafc-fab29829ce25",
   "metadata": {
    "language": "python",
    "name": "cell11"
   },
   "outputs": [],
   "source": "# Importa pandas, lo vamos a necesitar como un paso intermedio\nimport pandas as pd\nimport snowflake.snowpark.types as T\nimport snowflake.snowpark.functions as F\nfrom snowflake.snowpark.types import StructType, StructField, IntegerType, StringType, DoubleType\n\ntable_name = \"TAREA3_RAW\"\n\n# 1. El esquema sigue igual\nschema = StructType([\n    StructField(\"fNAME\", StringType()),\n    StructField(\"lNAME\", StringType()),\n    StructField(\"Age\", IntegerType()),\n    StructField(\"gender\", StringType()),\n    StructField(\"country\", StringType()),\n    StructField(\"residence\", StringType()),\n    StructField(\"entryEXAM\", DoubleType()),\n    StructField(\"prevEducation\", StringType()),\n    StructField(\"studyHOURS\", IntegerType()),\n    StructField(\"Python\", DoubleType()),\n    StructField(\"DB\", DoubleType()),\n])\n\n# 2. Abre el archivo localmente con el open() normal de Python\nwith open(\"TSID-TAREA3/bi.csv\", 'r', encoding='latin-1') as f:\n    pandas_df = pd.read_csv(f, header=0, names=[field.name for field in schema.fields])\n\n# 3. Convierte el DataFrame de Pandas a Snowpark\ndataframe = session.create_dataframe(pandas_df, schema=None)\n\n# 4. Guarda el DataFrame en la tabla final\ndataframe.write.mode(\"overwrite\").save_as_table(table_name)\n\nprint(f\"Tabla '{table_name}' cargada correctamente.\")\ndataframe.show()",
   "execution_count": null
  },
  {
   "cell_type": "markdown",
   "id": "83e3e002-9021-4ee1-99b7-f6f8c2092739",
   "metadata": {
    "name": "cell2",
    "collapsed": false
   },
   "source": "## Valores distintos de cada columna, comprobamos la inconsistencia de anotacion"
  },
  {
   "cell_type": "code",
   "id": "802e123d-55a9-416d-b098-7069bb69f24f",
   "metadata": {
    "language": "python",
    "name": "cell12"
   },
   "outputs": [],
   "source": "from snowflake.snowpark.functions import col\nRAW_TABLE_NAME = \"TAREA3_RAW\"\n\nraw_data = session.table(RAW_TABLE_NAME)\nprint(\"Valores distinctos de cada columna\")\n\ncolumns = [\"GENDER\", \"PREVEDUCATION\", \"COUNTRY\"]\n\nfor column in columns:\n    print(column)\n    print(raw_data.select(column).distinct().show())",
   "execution_count": null
  },
  {
   "cell_type": "markdown",
   "id": "7e418bec-39c0-419a-98de-2c6a665de8ec",
   "metadata": {
    "name": "cell3",
    "collapsed": false
   },
   "source": "## Corrección y estandarización de datos"
  },
  {
   "cell_type": "code",
   "id": "aaf0cb8b-733f-490e-b965-1a7cf1ba84d9",
   "metadata": {
    "language": "python",
    "name": "cell9"
   },
   "outputs": [],
   "source": "from snowflake.snowpark.functions import col, lower, when\n\nRAW_TABLE_NAME = \"TAREA3_RAW\"\nCLEANED_TABLE_NAME = \"TAREA3_CLEANED\"\n\n# Leer la tabla original\nraw_data = session.table(RAW_TABLE_NAME)\n\n# Limpiar columna GENDER: pasar a minúsculas y corregir abreviaciones\ncleaned_data = raw_data.with_column(\n    \"GENDER\",\n    when(lower(col(\"GENDER\")).isin(\"m\", \"male\"), \"male\")\n    .when(lower(col(\"GENDER\")).isin(\"f\", \"female\"), \"female\")\n    .otherwise(lower(col(\"GENDER\")))\n)\n\n# Limpiar PREVEDUCATION: todo a minúsculas y corregir errores\ncleaned_data = cleaned_data.with_column(\n    \"PREVEDUCATION\",\n    when(lower(col(\"PREVEDUCATION\")).like(\"%high school%\"), \"high school\")\n    .when(lower(col(\"PREVEDUCATION\")).like(\"%bachelor%\") | lower(col(\"PREVEDUCATION\")).like(\"%barrrchelors%\"), \"bachelors\")\n    .when(lower(col(\"PREVEDUCATION\")).like(\"%master%\"), \"masters\")\n    .when(lower(col(\"PREVEDUCATION\")).like(\"%doctor%\"), \"doctorate\")\n    .when(lower(col(\"PREVEDUCATION\")).like(\"%diploma%\"), \"diploma\")\n    .otherwise(lower(col(\"PREVEDUCATION\")))\n)\n\n# Limpiar COUNTRY: todo a minús culas y corregir abreviaciones o nombres alternativos\ncleaned_data = cleaned_data.with_column(\n    \"COUNTRY\",\n    when(lower(col(\"COUNTRY\")).like(\"norway\") | lower(col(\"COUNTRY\")).like(\"norge\"), \"norway\")\n    .when(lower(col(\"COUNTRY\")).like(\"rsa\"), \"south africa\")\n    .otherwise(lower(col(\"COUNTRY\")))\n)\n\n\nprint(f\"Tabla '{CLEANED_TABLE_NAME}' creada correctamente con los datos normalizados.\")\ncleaned_data.show()\n",
   "execution_count": null
  },
  {
   "cell_type": "markdown",
   "id": "3df31c6a-7175-4ce7-a60a-01fbc529273c",
   "metadata": {
    "name": "cell13",
    "collapsed": false
   },
   "source": "## Identifiacion y manjeo de valores nulos"
  },
  {
   "cell_type": "code",
   "id": "aef32475-2b47-4f61-90c0-b35e3b2a173f",
   "metadata": {
    "language": "python",
    "name": "cell17"
   },
   "outputs": [],
   "source": "from snowflake.snowpark.functions import col\n\n\nRAW_TABLE_NAME = \"TAREA3_RAW\"\nraw_data = session.table(RAW_TABLE_NAME)\n\ntext_columns = [\"FNAME\", \"LNAME\", \"RESIDENCE\", \"GENDER\", \"PREVEDUCATION\", \"COUNTRY\", \"PYTHON\", \"DB\"]\n\nprint(\"Buscando valores nulos...\\n\")\n\nfor column in text_columns:\n    null_df = raw_data.filter(col(column).is_null())\n    \n    if null_df.count() > 0:\n        print(f\"--- Columna con nulos: {column} ---\")\n        \n        # 3. Muestra las filas nulas encontradas.\n        null_df.select(column).show()\n        print(\"\\n\")\n\nprint(\"Búsqueda finalizada.\")",
   "execution_count": null
  },
  {
   "cell_type": "markdown",
   "id": "88ad250f-10e9-4b19-85ff-33e6596d8109",
   "metadata": {
    "name": "cell18",
    "collapsed": false
   },
   "source": "## reemplazamos con -1"
  },
  {
   "cell_type": "code",
   "id": "e852f513-66fa-4e0a-8dba-edc388838ae4",
   "metadata": {
    "language": "python",
    "name": "cell6"
   },
   "outputs": [],
   "source": "from snowflake.snowpark.functions import col, when, lit\n\nRAW_TABLE_NAME = \"TAREA3_RAW\"\nCLEANED_TABLE_NAME = \"TAREA3_CLEANED\"\n\n# Leer la tabla original\nraw_data = session.table(RAW_TABLE_NAME)\n\n# Reemplazar NULLs en la columna PYTHON por \"NA\"\ncleaned_data = cleaned_data.with_column(\n    \"PYTHON\",\n    when(col(\"PYTHON\").is_null(), -1 ).otherwise(col(\"PYTHON\"))\n)\n\nprint(f\" Tabla '{CLEANED_TABLE_NAME}' creada correctamente con los datos normalizados.\")\ncleaned_data.show()",
   "execution_count": null
  },
  {
   "cell_type": "markdown",
   "id": "1f9c19d0-df69-4c31-8478-721164fbb160",
   "metadata": {
    "name": "cell14",
    "collapsed": false
   },
   "source": "## Estudiantes con menos de 25 años"
  },
  {
   "cell_type": "code",
   "id": "d5fca6e2-44de-4b55-b3a9-effbffe3957b",
   "metadata": {
    "language": "python",
    "name": "cell15"
   },
   "outputs": [],
   "source": "cleaned_data.filter(col(\"AGE\") < 25).show()",
   "execution_count": null
  },
  {
   "cell_type": "markdown",
   "id": "5a21a7ea-04ae-4c9a-b622-09c0207a80c9",
   "metadata": {
    "name": "cell16",
    "collapsed": false
   },
   "source": "## estudiantes inscritos a nivel post universitario."
  },
  {
   "cell_type": "code",
   "id": "ebc84732-52d8-439b-9e1c-18d8b34f0d25",
   "metadata": {
    "language": "python",
    "name": "cell19"
   },
   "outputs": [],
   "source": "query = cleaned_data.filter(col(\"PREVEDUCATION\").isin(\"masters\", \"doctorate\"))\nquery.show()\nquery.select(\"PREVEDUCATION\").distinct().show()",
   "execution_count": null
  },
  {
   "cell_type": "markdown",
   "id": "f8fd1f4c-b3d4-469d-82bb-c808c2c8c5f6",
   "metadata": {
    "name": "cell20",
    "collapsed": false
   },
   "source": "## Subir la tabla limpia a la base de datos"
  },
  {
   "cell_type": "code",
   "id": "302ac3cb-9599-45a7-978e-69f90ee3aced",
   "metadata": {
    "language": "python",
    "name": "cell21"
   },
   "outputs": [],
   "source": "cleaned_data.write.mode(\"overwrite\").save_as_table(\"TAREA3_CLEANED\")",
   "execution_count": null
  },
  {
   "cell_type": "code",
   "id": "1e222b96-2a02-451b-8676-606ca8842220",
   "metadata": {
    "language": "sql",
    "name": "cell10"
   },
   "outputs": [],
   "source": "---> set the Role\nUSE ROLE DESAROLLADOR;\n---> set the Warehouse\nUSE WAREHOUSE SNOWFLAKE_LEARNING_WH;\n\nUSE DATABASE INFO_EMPLEADOS;\n\nSELECT * \nFROM TAREA3_CLEANED",
   "execution_count": null
  }
 ]
}